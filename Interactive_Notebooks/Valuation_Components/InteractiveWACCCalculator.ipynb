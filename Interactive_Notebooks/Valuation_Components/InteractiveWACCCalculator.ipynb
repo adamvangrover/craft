{
 "cells": [
  {
   "cell_type": "markdown",
   "metadata": {},
   "source": [
    "# Interactive WACC Calculator\n",
    "\n",
    "This notebook provides an interactive calculator for the Weighted Average Cost of Capital (WACC)."
   ]
  },
  {
   "cell_type": "markdown",
   "metadata": {},
   "source": [
    "## 1. Inputs"
   ]
  },
  {
   "cell_type": "code",
   "execution_count": null,
   "metadata": {},
   "outputs": [],
   "source": [
    "import ipywidgets as widgets\n",
    "from IPython.display import display\n",
    "\n",
    "# Inputs\n",
    "cost_of_equity = widgets.FloatSlider(value=0.12, min=0.01, max=0.25, step=0.005, description='Cost of Equity:')\n",
    "cost_of_debt = widgets.FloatSlider(value=0.06, min=0.01, max=0.15, step=0.005, description='Cost of Debt:')\n",
    "tax_rate = widgets.FloatSlider(value=0.25, min=0.0, max=0.5, step=0.01, description='Tax Rate:')\n",
    "market_value_of_equity = widgets.FloatText(value=1000, description='Mkt Val of Equity:')\n",
    "market_value_of_debt = widgets.FloatText(value=500, description='Mkt Val of Debt:')\n",
    "\n",
    "display(cost_of_equity, cost_of_debt, tax_rate, market_value_of_equity, market_value_of_debt)"
   ]
  },
  {
   "cell_type": "markdown",
   "metadata": {},
   "source": [
    "## 2. WACC Calculation"
   ]
  },
  {
   "cell_type": "code",
   "execution_count": null,
   "metadata": {},
   "outputs": [],
   "source": [
    "def calculate_wacc(b):\n",
    "    # Total Market Value\n",
    "    total_market_value = market_value_of_equity.value + market_value_of_debt.value\n",
    "\n",
    "    # Weights\n",
    "    weight_of_equity = market_value_of_equity.value / total_market_value\n",
    "    weight_of_debt = market_value_of_debt.value / total_market_value\n",
    "\n",
    "    # WACC Calculation\n",
    "    wacc = (weight_of_equity * cost_of_equity.value) + (weight_of_debt * cost_of_debt.value * (1 - tax_rate.value))\n",
    "\n",
    "    # Output\n",
    "    print(f\"Weight of Equity: {weight_of_equity:.2%}\")\n",
    "    print(f\"Weight of Debt: {weight_of_debt:.2%}\")\n",
    "    print(f\"WACC: {wacc:.2%}\")\n",
    "\n",
    "button = widgets.Button(description=\"Calculate WACC\")\n",
    "button.on_click(calculate_wacc)\n",
    "display(button)"
   ]
  }
 ],
 "metadata": {
  "kernelspec": {
   "display_name": "Python 3",
   "language": "python",
   "name": "python3"
  },
  "language_info": {
   "codemirror_mode": {
    "name": "ipython",
    "version": 3
   },
   "file_extension": ".py",
   "mimetype": "text/x-python",
   "name": "python",
   "nbconvert_exporter": "python",
   "pygments_lexer": "ipython3",
   "version": "3.10.9"
  }
 },
 "nbformat": 4,
 "nbformat_minor": 4
}
