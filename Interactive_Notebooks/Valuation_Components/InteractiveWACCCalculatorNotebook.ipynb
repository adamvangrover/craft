{
 "cells": [
  {
   "cell_type": "markdown",
   "metadata": {},
   "source": [
    "# Interactive WACC (Weighted Average Cost of Capital) Calculator\n",
    "\n",
    "**Objective:** This notebook provides an interactive calculator to understand the components of WACC and how they combine to determine a company's weighted average cost of capital.\n",
    "\n",
    "**WACC Formula:**\n",
    "`WACC = (E/V * Re) + [(D/V * Rd) * (1 - Tc)]`\n",
    "Where:\n",
    "*   `Re` = Cost of Equity\n",
    "*   `Rd` = Cost of Debt\n",
    "*   `E` = Market value of the company's equity\n",
    "*   `D` = Market value of the company's debt\n",
    "*   `V = E + D` = Total market value of the company's financing\n",
    "*   `E/V` = Percentage of financing that is equity\n",
    "*   `D/V` = Percentage of financing that is debt\n",
    "*   `Tc` = Corporate tax rate\n",
    "\n",
    "**Disclaimer:** This notebook is for educational and illustrative purposes only. The calculations are based on user inputs and simplified assumptions. It is NOT financial advice."
   ]
  },
  {
   "cell_type": "markdown",
   "metadata": {},
   "source": [
    "## 1. Setup\n",
    "Import necessary libraries."
   ]
  },
  {
   "cell_type": "code",
   "execution_count": null,
   "metadata": {},
   "outputs": [],
   "source": [
    "import ipywidgets as widgets\n",
    "from IPython.display import display, Markdown, HTML\n",
    "import matplotlib.pyplot as plt\n",
    "import numpy as np\n",
    "\n",
    "sns.set_style(\"whitegrid\") # Using seaborn for better plot aesthetics if available"
   ]
  },
  {
   "cell_type": "markdown",
   "metadata": {},
   "source": [
    "## 2. WACC Calculator Inputs\n",
    "\n",
    "Use the sliders and input boxes below to set the values for each component of the WACC calculation."
   ]
  },
  {
   "cell_type": "code",
   "execution_count": null,
   "metadata": {},
   "outputs": [],
   "source": [
    "style = {'description_width': 'initial'}\n",
    "layout = widgets.Layout(width='auto', height='auto') # Adjust layout for better fit\n",
    "\n",
    "cost_of_equity_slider = widgets.FloatSlider(value=12.0, min=1.0, max=30.0, step=0.1, description='Cost of Equity (Re %):', style=style, layout=layout)\n",
    "cost_of_debt_slider = widgets.FloatSlider(value=6.0, min=0.5, max=15.0, step=0.1, description='Cost of Debt (Rd %):', style=style, layout=layout)\n",
    "market_value_equity_text = widgets.FloatText(value=600, description='Market Value of Equity (E) ($M):', style=style, layout=layout)\n",
    "market_value_debt_text = widgets.FloatText(value=400, description='Market Value of Debt (D) ($M):', style=style, layout=layout)\n",
    "tax_rate_slider = widgets.FloatSlider(value=21.0, min=0.0, max=50.0, step=0.5, description='Corporate Tax Rate (Tc %):', style=style, layout=layout)\n",
    "\n",
    "inputs_box = widgets.VBox([\n",
    "    cost_of_equity_slider, \n",
    "    cost_of_debt_slider, \n",
    "    market_value_equity_text, \n",
    "    market_value_debt_text, \n",
    "    tax_rate_slider\n",
    "])\n",
    "\n",
    "display(Markdown(\"### Adjust WACC Components:\"))\n",
    "display(inputs_box)"
   ]
  },
  {
   "cell_type": "markdown",
   "metadata": {},
   "source": [
    "## 3. Calculate and Display WACC\n",
    "\n",
    "This section will calculate the WACC based on your inputs and display the result along with a visualization of the capital structure weights."
   ]
  },
  {
   "cell_type": "code",
   "execution_count": null,
   "metadata": {},
   "outputs": [],
   "source": [
    "output_wacc = widgets.Output()\n",
    "output_chart = widgets.Output()\n",
    "\n",
    "def calculate_and_display_wacc(re, rd, e, d, tc):\n",
    "    output_wacc.clear_output(wait=True)\n",
    "    output_chart.clear_output(wait=True)\n",
    "\n",
    "    if e + d == 0:\n",
    "        with output_wacc:\n",
    "            display(Markdown(\"<p style='color:red;'>Total Value (E+D) cannot be zero.</p>\"))\n",
    "        return\n",
    "\n",
    "    re_decimal = re / 100.0\n",
    "    rd_decimal = rd / 100.0\n",
    "    tc_decimal = tc / 100.0\n",
    "\n",
    "    v = e + d\n",
    "    weight_e = e / v\n",
    "    weight_d = d / v\n",
    "\n",
    "    wacc_value = (weight_e * re_decimal) + (weight_d * rd_decimal * (1 - tc_decimal))\n",
    "    wacc_percent = wacc_value * 100.0\n",
    "\n",
    "    with output_wacc:\n",
    "        display(Markdown(\"### WACC Calculation Result:\"))\n",
    "        display(Markdown(f\"- Total Value (V = E + D): **${v:,.2f} M**\"))\n",
    "        display(Markdown(f\"- Weight of Equity (E/V): **{weight_e:.2%}**\"))\n",
    "        display(Markdown(f\"- Weight of Debt (D/V): **{weight_d:.2%}**\"))\n",
    "        display(Markdown(f\"- After-Tax Cost of Debt (Rd * (1-Tc)): **{(rd_decimal * (1 - tc_decimal)):.2%}**\"))\n",
    "        display(Markdown(f\"### Calculated WACC: **{wacc_percent:.2f}%**\"))\n",
    "    \n",
    "    with output_chart:\n",
    "        labels = ['Equity (E/V)', 'Debt (D/V)']\n",
    "        sizes = [weight_e, weight_d]\n",
    "        colors = ['#66b3ff','#ff9999'] # Light blue and light red/pink\n",
    "        explode = (0.05, 0)  # explode the 1st slice (Equity)\n",
    "\n",
    "        fig1, ax1 = plt.subplots(figsize=(6,4))\n",
    "        ax1.pie(sizes, explode=explode, labels=labels, colors=colors, autopct='%1.1f%%',\n",
    "                shadow=True, startangle=90)\n",
    "        ax1.axis('equal')  # Equal aspect ratio ensures that pie is drawn as a circle.\n",
    "        plt.title('Capital Structure Weights')\n",
    "        plt.show()\n",
    "\n",
    "# Use interactive_output to link the function to the widgets\n",
    "interactive_wacc_calc = widgets.interactive_output(calculate_and_display_wacc, {\n",
    "    're': cost_of_equity_slider,\n",
    "    'rd': cost_of_debt_slider,\n",
    "    'e': market_value_equity_text,\n",
    "    'd': market_value_debt_text,\n",
    "    'tc': tax_rate_slider\n",
    "})\n",
    "\n",
    "display(Markdown(\"---_**Calculated WACC and Capital Structure:**_--- \"))\n",
    "display(output_wacc)\n",
    "display(output_chart)\n",
    "calculate_and_display_wacc( # Initial call to display with default values\n",
    "    cost_of_equity_slider.value, \n",
    "    cost_of_debt_slider.value, \n",
    "    market_value_equity_text.value, \n",
    "    market_value_debt_text.value, \n",
    "    tax_rate_slider.value\n",
    ")"
   ]
  },
  {
   "cell_type": "markdown",
   "metadata": {},
   "source": [
    "## 4. Explanation of Components\n",
    "\n",
    "*   **Cost of Equity (Re):** The return a company theoretically pays to its equity investors to compensate for the risk they undertake by investing their capital. Often estimated using models like CAPM (Capital Asset Pricing Model).\n",
    "*   **Cost of Debt (Rd):** The effective rate a company pays on its current debt. This can be estimated from the yield to maturity (YTM) on existing long-term debt or current market rates for debt of similar risk.\n",
    "*   **Market Value of Equity (E):** For publicly traded companies, this is the current stock price multiplied by the number of shares outstanding (Market Capitalization).\n",
    "*   **Market Value of Debt (D):** The market value of all outstanding debt. For bonds, this would be their current market price. For bank loans, book value is often used as an approximation if market values are not available, but market value is theoretically preferred.\n",
    "*   **Corporate Tax Rate (Tc):** The company's effective corporate tax rate. Interest payments on debt are typically tax-deductible, which creates a \"tax shield\" that reduces the effective cost of debt.\n",
    "\n",
    "## 5. Interpretation & Use Cases\n",
    "\n",
    "*   **Discount Rate:** WACC is commonly used as the discount rate in Discounted Cash Flow (DCF) analysis to value a business.\n",
    "*   **Investment Decisions:** Companies use WACC as a hurdle rate to evaluate the profitability of new projects or investments. A project should typically generate a return higher than the WACC to create value.\n",
    "*   **Valuation:** Understanding WACC helps in assessing whether a company's stock is over or undervalued.\n",
    "\n",
    "**Note:** This calculator is a simplified model. Real-world WACC calculations can be more complex, involving multiple tranches of debt, preferred stock, and more sophisticated methods for estimating the cost of equity and market values of debt."
   ]
  },
  {
   "cell_type": "markdown",
   "metadata": {},
   "source": [
    "--- \n",
    "**Further Learning from the Repository:**\n",
    "*   For a deeper dive into DCF, see the Interactive Equity Valuation Notebook in `/Interactive_Notebooks/Financial_Modeling/`\n",
    "*   Consult `/Financial_Modeling/Valuation_Applications/DCF_Modeling_Overview.md` for theoretical background.\n",
    "*   Explore `/CFA/` materials for detailed explanations of Cost of Capital (Level I & II)."
   ]
  }
 ],
 "metadata": {
  "kernelspec": {
   "display_name": "Python 3",
   "language": "python",
   "name": "python3"
  },
  "language_info": {
   "codemirror_mode": {
    "name": "ipython",
    "version": 3
   },
   "file_extension": ".py",
   "mimetype": "text/x-python",
   "name": "python",
   "nbconvert_exporter": "python",
   "pygments_lexer": "ipython3",
   "version": "3.9.12"
  }
 },
 "nbformat": 4,
 "nbformat_minor": 2
}
