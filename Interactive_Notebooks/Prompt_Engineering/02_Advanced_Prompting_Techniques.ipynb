{
 "cells": [
  {
   "cell_type": "markdown",
   "metadata": {},
   "source": [
    "# Advanced Prompting Techniques for Credit Analysts\n",
    "\n",
    "In this notebook, we'll explore advanced prompting techniques that allow you to tackle more complex analytical tasks. These methods will help you guide the LLM's reasoning process, leading to more accurate and insightful results."
   ]
  },
  {
   "cell_type": "markdown",
   "metadata": {},
   "source": [
    "## 1. Setup and Imports\n",
    "\n",
    "As before, we'll import the necessary libraries and use a simulated LLM function."
   ]
  },
  {
   "cell_type": "code",
   "execution_count": null,
   "metadata": {},
   "outputs": [],
   "source": [
    "import ipywidgets as widgets\n",
    "from IPython.display import display, Markdown\n",
    "import json\n",
    "\n",
    "# --- LLM Simulation (Advanced) ---\n",
    "def ask_llm_advanced(prompt):\n",
    "    \"\"\"Simulates a call to a Large Language Model for advanced techniques.\"\"\"\n",
    "    prompt_lower = prompt.lower()\n",
    "\n",
    "    if 'chain of thought' in prompt_lower or 'step-by-step' in prompt_lower:\n",
    "        return \"\"\"**Chain-of-Thought Response:**\n",
    "1.  **EBITDA Calculation:** Revenue (100M) - COGS (60M) - OpEx (20M) = 20M.\n",
    "2.  **Debt Service Calculation:** Principal (10M) + Interest (5M) = 15M.\n",
    "3.  **DSCR Calculation:** EBITDA (20M) / Debt Service (15M) = 1.33x.\n",
    "**Final Answer:** The DSCR is 1.33x.\"\"\"\n",
    "    elif 'few-shot' in prompt_lower:\n",
    "        # This is a simplified simulation. A real implementation would parse the examples.\n",
    "        return \"\"\"**Few-Shot Response:**\n",
    "Based on the examples provided, here is the extracted information in JSON format:\n",
    "```json\n",
    "{\n",
    "  \\\"Risk_Type\\\": \\\"Market\\\",\n",
    "  \\\"Factor\\\": \\\"Interest Rate Risk\\\"\n",
    "}\n",
    "```\"\"\"\n",
    "    elif 'tree of thoughts' in prompt_lower:\n",
    "        return \"\"\"**Tree of Thoughts Response:**\n",
    "**Path 1: Aggressive Cost Cutting**\n",
    "*   Pros: Immediate margin improvement.\n",
    "*   Cons: Potential impact on quality and employee morale.\n",
    "**Path 2: Revenue Diversification**\n",
    "*   Pros: Reduced customer concentration risk.\n",
    "*   Cons: High initial investment, long time to see results.\n",
    "**Recommendation:** Path 1 is recommended for short-term stability, but Path 2 should be explored for long-term sustainability.\"\"\"\n",
    "    else:\n",
    "        return \"**Response:** Please use a prompt that demonstrates an advanced technique (Chain of Thought, Few-Shot, or Tree of Thoughts).\"\n",
    "\n",
    "print(\"Setup complete. The 'ask_llm_advanced' function is now available.\")"
   ]
  },
  {
   "cell_type": "markdown",
   "metadata": {},
   "source": [
    "## 2. Advanced Technique: Chain-of-Thought (CoT) Prompting\n",
    "\n",
    "CoT prompts instruct the LLM to think step-by-step, which is crucial for multi-step calculations.\n",
    "\n",
    "**Prompt Example:** `Calculate the DSCR for the company. Show your work step-by-step. Use Chain of Thought.`"
   ]
  },
  {
   "cell_type": "code",
   "execution_count": null,
   "metadata": {},
   "outputs": [],
   "source": [
    "cot_prompt_input = widgets.Textarea(\n",
    "    value='Calculate the DSCR for the company. Show your work step-by-step. Use Chain of Thought.',\n",
    "    placeholder='Type your CoT prompt here',\n",
    "    description='CoT Prompt:',\n",
    "    layout={'width': '100%', 'height': '80px'}\n",
    ")\n",
    "\n",
    "cot_submit_button = widgets.Button(description=\"Ask LLM\")\n",
    "cot_output_area = widgets.Output()\n",
    "\n",
    "def on_cot_submit_clicked(b):\n",
    "    with cot_output_area:\n",
    "        cot_output_area.clear_output()\n",
    "        response = ask_llm_advanced(cot_prompt_input.value)\n",
    "        display(Markdown(response))\n",
    "\n",
    "cot_submit_button.on_click(on_cot_submit_clicked)\n",
    "\n",
    "display(cot_prompt_input, cot_submit_button, cot_output_area)"
   ]
  },
  {
   "cell_type": "markdown",
   "metadata": {},
   "source": [
    "## 3. Advanced Technique: Few-Shot Prompting\n",
    "\n",
    "Few-shot prompts provide examples to the LLM to guide its output format.\n",
    "\n",
    "**Prompt Example:** `You are a data extraction bot. Here are some examples:\\nExample 1: Input: \\\"The company is exposed to currency risk.\\\" Output: {\\\"Risk_Type\\\": \\\"Market\\\", \\\"Factor\\\": \\\"Currency Risk\\\"}\\n\\nNow, process this text: \\\"The company has high interest rate risk.\\\" Use Few-Shot.`"
   ]
  },
  {
   "cell_type": "code",
   "execution_count": null,
   "metadata": {},
   "outputs": [],
   "source": [
    "fs_prompt_input = widgets.Textarea(\n",
    "    value='You are a data extraction bot. Here are some examples... Use Few-Shot.',\n",
    "    placeholder='Type your Few-Shot prompt here',\n",
    "    description='FS Prompt:',\n",
    "    layout={'width': '100%', 'height': '120px'}\n",
    ")\n",
    "\n",
    "fs_submit_button = widgets.Button(description=\"Ask LLM\")\n",
    "fs_output_area = widgets.Output()\n",
    "\n",
    "def on_fs_submit_clicked(b):\n",
    "    with fs_output_area:\n",
    "        fs_output_area.clear_output()\n",
    "        response = ask_llm_advanced(fs_prompt_input.value)\n",
    "        display(Markdown(response))\n",
    "\n",
    "fs_submit_button.on_click(on_fs_submit_clicked)\n",
    "\n",
    "display(fs_prompt_input, fs_submit_button, fs_output_area)"
   ]
  },
  {
   "cell_type": "markdown",
   "metadata": {},
   "source": [
    "## 4. Advanced Technique: Tree of Thoughts (ToT) Prompting\n",
    "\n",
    "ToT prompts encourage the LLM to explore multiple reasoning paths and then choose the best one.\n",
    "\n",
    "**Prompt Example:** `Develop three strategies to improve the company's liquidity. For each, list pros and cons. Finally, recommend the best strategy. Use Tree of Thoughts.`"
   ]
  },
  {
   "cell_type": "code",
   "execution_count": null,
   "metadata": {},
   "outputs": [],
   "source": [
    "tot_prompt_input = widgets.Textarea(\n",
    "    value='Develop three strategies to improve liquidity. Use Tree of Thoughts.',\n",
    "    placeholder='Type your ToT prompt here',\n",
    "    description='ToT Prompt:',\n",
    "    layout={'width': '100%', 'height': '80px'}\n",
    ")\n",
    "\n",
    "tot_submit_button = widgets.Button(description=\"Ask LLM\")\n",
    "tot_output_area = widgets.Output()\n",
    "\n",
    "def on_tot_submit_clicked(b):\n",
    "    with tot_output_area:\n",
    "        tot_output_area.clear_output()\n",
    "        response = ask_llm_advanced(tot_prompt_input.value)\n",
    "        display(Markdown(response))\n",
    "\n",
    "tot_submit_button.on_click(on_tot_submit_clicked)\n",
    "\n",
    "display(tot_prompt_input, tot_submit_button, tot_output_area)"
   ]
  },
  {
   "cell_type": "markdown",
   "metadata": {},
   "source": [
    "## 5. Conclusion\n",
    "\n",
    "By mastering these advanced techniques, you can unlock new capabilities for AI-powered financial analysis. Experiment with these methods to see how they can enhance your workflow."
   ]
  }
 ],
 "metadata": {
  "kernelspec": {
   "display_name": "Python 3",
   "language": "python",
   "name": "python3"
  },
  "language_info": {
   "codemirror_mode": {
    "name": "ipython",
    "version": 3
   },
   "file_extension": ".py",
   "mimetype": "text/x-python",
   "name": "python",
   "nbconvert_exporter": "python",
   "pygments_lexer": "ipython3",
   "version": "3.10.9"
  }
 },
 "nbformat": 4,
 "nbformat_minor": 4
}
