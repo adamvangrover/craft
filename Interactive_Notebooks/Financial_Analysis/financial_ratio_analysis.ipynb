{
 "cells": [
  {
   "cell_type": "markdown",
   "metadata": {},
   "source": [
    "# Financial Ratio Analysis"
   ]
  },
  {
   "cell_type": "markdown",
   "metadata": {},
   "source": [
    "This notebook provides an interactive guide to financial ratio analysis. We will use Python to calculate and visualize key financial ratios."
   ]
  },
  {
   "cell_type": "markdown",
   "metadata": {},
   "source": [
    "## 1. Liquidity Ratios"
   ]
  },
  {
   "cell_type": "markdown",
   "metadata": {},
   "source": [
    "Liquidity ratios measure a company's ability to meet its short-term obligations."
   ]
  },
  {
   "cell_type": "markdown",
   "metadata": {},
   "source": [
    "### Current Ratio"
   ]
  },
  {
   "cell_type": "markdown",
   "metadata": {},
   "source": [
    "The current ratio is calculated as follows:\n",
    "\n",
    "**Current Ratio = Current Assets / Current Liabilities**"
   ]
  },
  {
   "cell_type": "code",
   "execution_count": null,
   "metadata": {},
   "outputs": [],
   "source": [
    "def current_ratio(current_assets, current_liabilities):\n",
    "    return current_assets / current_liabilities\n",
    "\n",
    "current_assets = 1000\n",
    "current_liabilities = 500\n",
    "\n",
    "print(f\"Current Ratio: {current_ratio(current_assets, current_liabilities)}\")"
   ]
  },
  {
   "cell_type": "markdown",
   "metadata": {},
   "source": [
    "### Quick Ratio"
   ]
  },
  {
   "cell_type": "markdown",
   "metadata": {},
   "source": [
    "The quick ratio is calculated as follows:\n",
    "\n",
    "**Quick Ratio = (Current Assets - Inventory) / Current Liabilities**"
   ]
  },
  {
   "cell_type": "code",
   "execution_count": null,
   "metadata": {},
   "outputs": [],
   "source": [
    "def quick_ratio(current_assets, inventory, current_liabilities):\n",
    "    return (current_assets - inventory) / current_liabilities\n",
    "\n",
    "current_assets = 1000\n",
    "inventory = 200\n",
    "current_liabilities = 500\n",
    "\n",
    "print(f\"Quick Ratio: {quick_ratio(current_assets, inventory, current_liabilities)}\")"
   ]
  },
  {
   "cell_type": "markdown",
   "metadata": {},
   "source": [
    "## 2. Profitability Ratios"
   ]
  },
  {
   "cell_type": "markdown",
   "metadata": {},
   "source": [
    "Profitability ratios measure a company's ability to generate profits from its sales and assets."
   ]
  },
  {
   "cell_type": "markdown",
   "metadata": {},
   "source": [
    "### Gross Profit Margin"
   ]
  },
  {
   "cell_type": "markdown",
   "metadata": {},
   "source": [
    "The gross profit margin is calculated as follows:\n",
    "\n",
    "**Gross Profit Margin = (Gross Profit / Revenue) * 100**"
   ]
  },
  {
   "cell_type": "code",
   "execution_count": null,
   "metadata": {},
   "outputs": [],
   "source": [
    "def gross_profit_margin(gross_profit, revenue):\n",
    "    return (gross_profit / revenue) * 100\n",
    "\n",
    "gross_profit = 500\n",
    "revenue = 1000\n",
    "\n",
    "print(f\"Gross Profit Margin: {gross_profit_margin(gross_profit, revenue)}%\")"
   ]
  },
  {
   "cell_type": "markdown",
   "metadata": {},
   "source": [
    "### Net Profit Margin"
   ]
  },
  {
   "cell_type": "markdown",
   "metadata": {},
   "source": [
    "The net profit margin is calculated as follows:\n",
    "\n",
    "**Net Profit Margin = (Net Income / Revenue) * 100**"
   ]
  },
  {
   "cell_type": "code",
   "execution_count": null,
   "metadata": {},
   "outputs": [],
   "source": [
    "def net_profit_margin(net_income, revenue):\n",
    "    return (net_income / revenue) * 100\n",
    "\n",
    "net_income = 200\n",
    "revenue = 1000\n",
    "\n",
    "print(f\"Net Profit Margin: {net_profit_margin(net_income, revenue)}%\")"
   ]
  }
 ],
 "metadata": {
  "kernelspec": {
   "display_name": "Python 3",
   "language": "python",
   "name": "python3"
  },
  "language_info": {
   "codemirror_mode": {
    "name": "ipython",
    "version": 3
   },
   "file_extension": ".py",
   "mimetype": "text/x-python",
   "name": "python",
   "nbconvert_exporter": "python",
   "pygments_lexer": "ipython3",
   "version": "3.10.9"
  }
 },
 "nbformat": 4,
 "nbformat_minor": 4
}
