{
 "cells": [
  {
   "cell_type": "markdown",
   "metadata": {},
   "source": [
    "# Time-Series Forecasting of Economic Indicators\n",
    "\n",
    "This notebook provides an example of how to use time-series analysis to forecast a key economic indicator. We will use a simple ARIMA model to forecast monthly unemployment data."
   ]
  },
  {
   "cell_type": "markdown",
   "metadata": {},
   "source": [
    "## 1. Load and Prepare the Data"
   ]
  },
  {
   "cell_type": "code",
   "execution_count": null,
   "metadata": {},
   "outputs": [],
   "source": [
    "import pandas as pd\n",
    "import numpy as np\n",
    "import matplotlib.pyplot as plt\n",
    "from statsmodels.tsa.arima.model import ARIMA\n",
    "from statsmodels.tsa.stattools import adfuller\n",
    "\n",
    "# For demonstration purposes, we will use a well-known dataset on unemployment from statsmodels\n",
    "from statsmodels.datasets import macrodata\n",
    "\n",
    "df = macrodata.load_pandas().data\n",
    "df['date'] = pd.to_datetime(df['year'].astype(str) + 'Q' + df['quarter'].astype(str))\n",
    "df = df.set_index('date')\n",
    "\n",
    "unemp_ts = df['unemp']\n",
    "unemp_ts.plot(title='US Unemployment Rate')\n",
    "plt.show()"
   ]
  },
  {
   "cell_type": "markdown",
   "metadata": {},
   "source": [
    "## 2. Test for Stationarity\n",
    "\n",
    "ARIMA models require the time series to be stationary (i.e., the mean and variance are constant over time). We can use the Augmented Dickey-Fuller test to check for stationarity."
   ]
  },
  {
   "cell_type": "code",
   "execution_count": null,
   "metadata": {},
   "outputs": [],
   "source": [
    "def check_stationarity(timeseries):\n",
    "    result = adfuller(timeseries)\n",
    "    print('ADF Statistic: %f' % result[0])\n",
    "    print('p-value: %f' % result[1])\n",
    "    if result[1] <= 0.05:\n",
    "        print(\"Data is stationary\")\n",
    "    else:\n",
    "        print(\"Data is not stationary. Differencing may be required.\")\n",
    "\n",
    "check_stationarity(unemp_ts)"
   ]
  },
  {
   "cell_type": "markdown",
   "metadata": {},
   "source": [
    "## 3. Fit the ARIMA Model\n",
    "\n",
    "Since the data is not stationary, we will use differencing (the 'd' component of ARIMA). A simple ARIMA(5,1,0) model is often a good starting point for economic data."
   ]
  },
  {
   "cell_type": "code",
   "execution_count": null,
   "metadata": {},
   "outputs": [],
   "source": [
    "# Fit ARIMA model\n",
    "# The order (p,d,q) corresponds to: (AR order, Differencing order, MA order)\n",
    "model = ARIMA(unemp_ts, order=(5, 1, 0))\n",
    "model_fit = model.fit()\n",
    "\n",
    "# Print summary\n",
    "print(model_fit.summary())"
   ]
  },
  {
   "cell_type": "markdown",
   "metadata": {},
   "source": [
    "## 4. Forecast Future Values"
   ]
  },
  {
   "cell_type": "code",
   "execution_count": null,
   "metadata": {},
   "outputs": [],
   "source": [
    "# Forecast\n",
    "forecast = model_fit.get_forecast(steps=12) # Forecast next 12 quarters\n",
    "forecast_index = pd.date_range(start=unemp_ts.index[-1], periods=13, freq='Q')[1:]\n",
    "forecast_series = pd.Series(forecast.predicted_mean.values, index=forecast_index)\n",
    "confidence_intervals = forecast.conf_int()\n",
    "\n",
    "# Plot the forecast\n",
    "plt.figure(figsize=(12,6))\n",
    "plt.plot(unemp_ts, label='Historical')\n",
    "plt.plot(forecast_series, label='Forecast')\n",
    "plt.fill_between(forecast_index, confidence_intervals.iloc[:, 0], confidence_intervals.iloc[:, 1], color='k', alpha=.15)\n",
    "plt.title('Unemployment Rate Forecast')\n",
    "plt.legend()\n",
    "plt.show()"
   ]
  }
 ],
 "metadata": {
  "kernelspec": {
   "display_name": "Python 3",
   "language": "python",
   "name": "python3"
  },
  "language_info": {
   "codemirror_mode": {
    "name": "ipython",
    "version": 3
   },
   "file_extension": ".py",
   "mimetype": "text/x-python",
   "name": "python",
   "nbconvert_exporter": "python",
   "pygments_lexer": "ipython3",
   "version": "3.10.9"
  }
 },
 "nbformat": 4,
 "nbformat_minor": 4
}
