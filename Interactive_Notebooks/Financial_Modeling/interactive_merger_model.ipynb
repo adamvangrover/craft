{
 "cells": [
  {
   "cell_type": "markdown",
   "metadata": {},
   "source": [
    "# Interactive M&A Accretion/Dilution Model\n",
    "\n",
    "This notebook provides a simplified, interactive model to demonstrate the mechanics of a merger & acquisition (M&A) accretion/dilution analysis."
   ]
  },
  {
   "cell_type": "markdown",
   "metadata": {},
   "source": [
    "## 1. Define Standalone Financials for Acquirer and Target"
   ]
  },
  {
   "cell_type": "code",
   "execution_count": null,
   "metadata": {},
   "outputs": [],
   "source": [
    "import ipywidgets as widgets\n",
    "from IPython.display import display\n",
    "\n",
    "# Acquirer Inputs\n",
    "acquirer_revenue = widgets.FloatText(value=5000, description='Acquirer Revenue:')\n",
    "acquirer_net_income_margin = widgets.FloatSlider(value=0.10, min=0.01, max=0.5, step=0.01, description='Acquirer NI %')\n",
    "acquirer_shares_outstanding = widgets.FloatText(value=1000, description='Acquirer Shares:')\n",
    "\n",
    "# Target Inputs\n",
    "target_revenue = widgets.FloatText(value=1000, description='Target Revenue:')\n",
    "target_net_income_margin = widgets.FloatSlider(value=0.15, min=0.01, max=0.5, step=0.01, description='Target NI %')\n",
    "\n",
    "display(acquirer_revenue, acquirer_net_income_margin, acquirer_shares_outstanding)\n",
    "display(target_revenue, target_net_income_margin)"
   ]
  },
  {
   "cell_type": "markdown",
   "metadata": {},
   "source": [
    "## 2. Define Transaction Assumptions"
   ]
  },
  {
   "cell_type": "code",
   "execution_count": null,
   "metadata": {},
   "outputs": [],
   "source": [
    "# Transaction Inputs\n",
    "target_purchase_price = widgets.FloatText(value=2000, description='Purchase Price:')\n",
    "cash_financing_pct = widgets.FloatSlider(value=0.5, min=0, max=1, step=0.1, description='Cash %:')\n",
    "stock_financing_pct = widgets.FloatSlider(value=0.5, min=0, max=1, step=0.1, description='Stock %:')\n",
    "cost_of_debt = widgets.FloatSlider(value=0.05, min=0.01, max=0.1, step=0.01, description='Cost of Debt:')\n",
    "synergies = widgets.FloatText(value=50, description='Synergies:')\n",
    "\n",
    "display(target_purchase_price, cash_financing_pct, stock_financing_pct, cost_of_debt, synergies)"
   ]
  },
  {
   "cell_type": "markdown",
   "metadata": {},
   "source": [
    "## 3. Pro Forma Calculations and Accretion/Dilution Analysis"
   ]
  },
  {
   "cell_type": "code",
   "execution_count": null,
   "metadata": {},
   "outputs": [],
   "source": [
    "import pandas as pd\n",
    "\n",
    "def calculate_accretion_dilution(b):\n",
    "    # Standalone Acquirer\n",
    "    acquirer_ni = acquirer_revenue.value * acquirer_net_income_margin.value\n",
    "    acquirer_eps = acquirer_ni / acquirer_shares_outstanding.value\n",
    "\n",
    "    # Transaction Effects\n",
    "    cash_used = target_purchase_price.value * cash_financing_pct.value\n",
    "    stock_issued_value = target_purchase_price.value * stock_financing_pct.value\n",
    "    new_shares = stock_issued_value / (acquirer_ni / acquirer_shares_outstanding.value) # Assuming P/E of acquirer is used for share exchange\n",
    "    interest_expense = cash_used * cost_of_debt.value\n",
    "\n",
    "    # Pro Forma\n",
    "    pro_forma_ni = acquirer_ni + (target_revenue.value * target_net_income_margin.value) + synergies.value - interest_expense\n",
    "    pro_forma_shares = acquirer_shares_outstanding.value + new_shares\n",
    "    pro_forma_eps = pro_forma_ni / pro_forma_shares\n",
    "\n",
    "    # Accretion/Dilution\n",
    "    accretion_dilution_pct = (pro_forma_eps / acquirer_eps) - 1\n",
    "\n",
    "    # Output\n",
    "    print(f\"Standalone Acquirer EPS: ${acquirer_eps:.2f}\")\n",
    "    print(f\"Pro Forma EPS: ${pro_forma_eps:.2f}\")\n",
    "    print(f\"Accretion/Dilution: {accretion_dilution_pct:.2%}\")\n",
    "\n",
    "button = widgets.Button(description=\"Calculate\")\n",
    "button.on_click(calculate_accretion_dilution)\n",
    "display(button)"
   ]
  }
 ],
 "metadata": {
  "kernelspec": {
   "display_name": "Python 3",
   "language": "python",
   "name": "python3"
  },
  "language_info": {
   "codemirror_mode": {
    "name": "ipython",
    "version": 3
   },
   "file_extension": ".py",
   "mimetype": "text/x-python",
   "name": "python",
   "nbconvert_exporter": "python",
   "pygments_lexer": "ipython3",
   "version": "3.10.9"
  }
 },
 "nbformat": 4,
 "nbformat_minor": 4
}
