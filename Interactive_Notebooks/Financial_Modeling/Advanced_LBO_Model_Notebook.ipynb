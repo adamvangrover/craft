{
 "cells": [
  {
   "cell_type": "markdown",
   "metadata": {},
   "source": [
    "# Advanced LBO Model Notebook\n",
    "\n",
    "**Purpose:** This notebook provides a simplified, interactive model of a Leveraged Buyout (LBO). It demonstrates the core mechanics, including the sources & uses of funds, debt schedule, and returns calculation (IRR and MOIC). \n",
    "\n",
    "**Guide:** For a detailed explanation of the concepts, please refer to the [LBO Modeling Deep Dive guide](../../Financial_Modeling/Advanced_Topics/LBO_Modeling_Deep_Dive.md).\n",
    "\n",
    "**How to Use:** Run the cells sequentially. Use the interactive sliders at the end to perform sensitivity analysis on key assumptions."
   ]
  },
  {
   "cell_type": "markdown",
   "metadata": {},
   "source": [
    "## 1. Setup and Library Imports"
   ]
  },
  {
   "cell_type": "code",
   "execution_count": null,
   "metadata": {},
   "outputs": [],
   "source": [
    "import pandas as pd\n",
    "import numpy as np\n",
    "import numpy_financial as npf\n",
    "from ipywidgets import interact, FloatSlider, IntSlider\n",
    "\n",
    "pd.options.display.float_format = '{:,.2f}'.format"
   ]
  },
  {
   "cell_type": "markdown",
   "metadata": {},
   "source": [
    "## 2. LBO Assumptions\n",
    "\n",
    "We define all the key entry, financing, operational, and exit assumptions for our hypothetical LBO."
   ]
  },
  {
   "cell_type": "code",
   "execution_count": null,
   "metadata": {},
   "outputs": [],
   "source": [
    "# Entry Assumptions\n",
    "entry_ebitda = 100.0\n",
    "entry_multiple = 10.0\n",
    "cash_on_bs = 20.0\n",
    "existing_debt = 150.0\n",
    "transaction_fees = 25.0\n",
    "\n",
    "# Financing Assumptions\n",
    "tla_multiple = 3.0 # Term Loan A as x of EBITDA\n",
    "tla_interest_rate = 0.06\n",
    "tla_amort_percent = 0.10 # 10% mandatory amortization per year\n",
    "\n",
    "tlb_multiple = 3.0 # Term Loan B as x of EBITDA\n",
    "tlb_interest_rate = 0.08\n",
    "tlb_amort_percent = 0.01 # 1% mandatory amortization per year\n",
    "\n",
    "# Operational Projections\n",
    "proj_years = 5\n",
    "revenue_growth = 0.05\n",
    "ebitda_margin = 0.40 # Assuming constant for simplicity\n",
    "tax_rate = 0.25\n",
    "capex_percent_of_rev = 0.05\n",
    "nwc_percent_of_rev = 0.10\n",
    "\n",
    "# Exit Assumption\n",
    "exit_multiple = 11.0"
   ]
  },
  {
   "cell_type": "markdown",
   "metadata": {},
   "source": [
    "## 3. Transaction Calculation: Sources & Uses\n",
    "\n",
    "Here, we calculate the total funding required (Uses) and how it's paid for (Sources). The Sponsor Equity is the plug that makes the two sides equal."
   ]
  },
  {
   "cell_type": "code",
   "execution_count": null,
   "metadata": {},
   "outputs": [],
   "source": [
    "# --- Uses ---\n",
    "entry_ev = entry_ebitda * entry_multiple\n",
    "equity_purchase_price = entry_ev - existing_debt + cash_on_bs\n",
    "\n",
    "total_uses = equity_purchase_price + existing_debt + transaction_fees\n",
    "\n",
    "# --- Sources ---\n",
    "tla_debt = entry_ebitda * tla_multiple\n",
    "tlb_debt = entry_ebitda * tlb_multiple\n",
    "total_debt = tla_debt + tlb_debt\n",
    "\n",
    "sponsor_equity = total_uses - total_debt\n",
    "\n",
    "# --- Build S&U Table ---\n",
    "sources = {'Term Loan A': tla_debt, 'Term Loan B': tlb_debt, 'Sponsor Equity': sponsor_equity}\n",
    "uses = {'Equity Purchase Price': equity_purchase_price, 'Repay Existing Debt': existing_debt, 'Transaction Fees': transaction_fees}\n",
    "\n",
    "su_df = pd.DataFrame({'Sources': pd.Series(sources), 'Uses': pd.Series(uses)}).fillna(0)\n",
    "su_df.loc['Total'] = [su_df['Sources'].sum(), su_df['Uses'].sum()]\n",
    "\n",
    "print(\"--- Sources & Uses ---\")\n",
    "display(su_df)"
   ]
  },
  {
   "cell_type": "markdown",
   "metadata": {},
   "source": [
    "## 4. Projections & Debt Schedule\n",
    "\n",
    "This is the core of the model. We project the company's cash flows and use them to pay down debt in a 'cash sweep'."
   ]
  },
  {
   "cell_type": "code",
   "execution_count": null,
   "metadata": {},
   "outputs": [],
   "source": [
    "def run_lbo_model(initial_tla, initial_tlb):\n",
    "    # --- Initialize DataFrames ---\n",
    "    years = np.arange(1, proj_years + 1)\n",
    "    pnl = pd.DataFrame(index=['Revenue', 'EBITDA', 'D&A', 'EBIT', 'Interest Expense', 'EBT', 'Taxes', 'Net Income'], columns=years)\n",
    "    cfs = pd.DataFrame(index=['Net Income', 'D&A', 'Change in NWC', 'CFO', 'CapEx', 'FCF', 'Mandatory Debt Paydown', 'Cash Sweep', 'Net Debt Change', 'Levered FCF'], columns=years)\n",
    "    debt_schedule = pd.DataFrame(index=['TLA_Beg', 'TLA_Mand_Amort', 'TLA_Sweep', 'TLA_End', 'TLB_Beg', 'TLB_Mand_Amort', 'TLB_Sweep', 'TLB_End'], columns=years)\n",
    "    \n",
    "    # --- Set Initial Values ---\n",
    "    revenue_t0 = entry_ebitda / ebitda_margin\n",
    "    nwc_t0 = revenue_t0 * nwc_percent_of_rev\n",
    "    debt_schedule.loc[['TLA_Beg', 'TLB_Beg'], 1] = [initial_tla, initial_tlb]\n",
    "    \n",
    "    # --- Loop Through Projections ---\n",
    "    for year in years:\n",
    "        # P&L Projections\n",
    "        pnl.loc['Revenue', year] = revenue_t0 * (1 + revenue_growth)\n",
    "        pnl.loc['EBITDA', year] = pnl.loc['Revenue', year] * ebitda_margin\n",
    "        pnl.loc['D&A', year] = pnl.loc['Revenue', year] * capex_percent_of_rev # Simple assumption D&A = CapEx\n",
    "        pnl.loc['EBIT', year] = pnl.loc['EBITDA', year] - pnl.loc['D&A', year]\n",
    "        \n",
    "        # Debt & Interest\n",
    "        if year > 1:\n",
    "            debt_schedule.loc['TLA_Beg', year] = debt_schedule.loc['TLA_End', year - 1]\n",
    "            debt_schedule.loc['TLB_Beg', year] = debt_schedule.loc['TLB_End', year - 1]\n",
    "        \n",
    "        interest_tla = debt_schedule.loc['TLA_Beg', year] * tla_interest_rate\n",
    "        interest_tlb = debt_schedule.loc['TLB_Beg', year] * tlb_interest_rate\n",
    "        pnl.loc['Interest Expense', year] = interest_tla + interest_tlb\n",
    "        \n",
    "        pnl.loc['EBT', year] = pnl.loc['EBIT', year] - pnl.loc['Interest Expense', year]\n",
    "        pnl.loc['Taxes', year] = -pnl.loc['EBT', year] * tax_rate\n",
    "        pnl.loc['Net Income', year] = pnl.loc['EBT', year] + pnl.loc['Taxes', year]\n",
    "        \n",
    "        # Cash Flow Statement\n",
    "        cfs.loc['Net Income', year] = pnl.loc['Net Income', year]\n",
    "        cfs.loc['D&A', year] = pnl.loc['D&A', year]\n",
    "        nwc_t1 = pnl.loc['Revenue', year] * nwc_percent_of_rev\n",
    "        cfs.loc['Change in NWC', year] = -(nwc_t1 - nwc_t0)\n",
    "        cfs.loc['CFO', year] = cfs.loc[['Net Income', 'D&A', 'Change in NWC'], year].sum()\n",
    "        cfs.loc['CapEx', year] = -pnl.loc['Revenue', year] * capex_percent_of_rev\n",
    "        cfs.loc['FCF', year] = cfs.loc['CFO', year] + cfs.loc['CapEx', year]\n",
    "        \n",
    "        # Debt Paydown (Cash Sweep Waterfall)\n",
    "        cash_available_for_sweep = cfs.loc['FCF', year]\n",
    "        \n",
    "        debt_schedule.loc['TLA_Mand_Amort', year] = -min(initial_tla * tla_amort_percent, debt_schedule.loc['TLA_Beg', year])\n",
    "        cash_available_for_sweep += debt_schedule.loc['TLA_Mand_Amort', year]\n",
    "        \n",
    "        debt_schedule.loc['TLB_Mand_Amort', year] = -min(initial_tlb * tlb_amort_percent, debt_schedule.loc['TLB_Beg', year])\n",
    "        cash_available_for_sweep += debt_schedule.loc['TLB_Mand_Amort', year]\n",
    "        \n",
    "        tla_sweep = -min(max(0, cash_available_for_sweep), debt_schedule.loc['TLA_Beg', year] + debt_schedule.loc['TLA_Mand_Amort', year])\n",
    "        debt_schedule.loc['TLA_Sweep', year] = tla_sweep\n",
    "        cash_available_for_sweep += tla_sweep\n",
    "        \n",
    "        tlb_sweep = -min(max(0, cash_available_for_sweep), debt_schedule.loc['TLB_Beg', year] + debt_schedule.loc['TLB_Mand_Amort', year])\n",
    "        debt_schedule.loc['TLB_Sweep', year] = tlb_sweep\n",
    "        \n",
    "        debt_schedule.loc['TLA_End', year] = debt_schedule.loc['TLA_Beg', year] + debt_schedule.loc['TLA_Mand_Amort', year] + debt_schedule.loc['TLA_Sweep', year]\n",
    "        debt_schedule.loc['TLB_End', year] = debt_schedule.loc['TLB_Beg', year] + debt_schedule.loc['TLB_Mand_Amort', year] + debt_schedule.loc['TLB_Sweep', year]\n",
    "        \n",
    "        # Update CFS\n",
    "        cfs.loc['Mandatory Debt Paydown', year] = debt_schedule.loc['TLA_Mand_Amort', year] + debt_schedule.loc['TLB_Mand_Amort', year]\n",
    "        cfs.loc['Cash Sweep', year] = debt_schedule.loc['TLA_Sweep', year] + debt_schedule.loc['TLB_Sweep', year]\n",
    "        cfs.loc['Net Debt Change', year] = cfs.loc[['Mandatory Debt Paydown', 'Cash Sweep'], year].sum()\n",
    "        cfs.loc['Levered FCF', year] = cfs.loc['FCF', year] + cfs.loc['Net Debt Change', year]\n",
    "        \n",
    "        # Update for next loop\n",
    "        revenue_t0 = pnl.loc['Revenue', year]\n",
    "        nwc_t0 = nwc_t1\n",
    "        \n",
    "    return pnl, cfs, debt_schedule\n",
    "\n",
    "pnl_df, cfs_df, debt_df = run_lbo_model(tla_debt, tlb_debt)\n",
    "\n",
    "print(\"--- Income Statement ---\")\n",
    "display(pnl_df)\n",
    "print(\"\\n--- Cash Flow Statement ---\")\n",
    "display(cfs_df)\n",
    "print(\"\\n--- Debt Schedule ---\")\n",
    "display(debt_df)\n"
   ]
  },
  {
   "cell_type": "markdown",
   "metadata": {},
   "source": [
    "## 5. Exit & Returns Calculation\n",
    "\n",
    "Finally, we calculate the exit value and the returns to the sponsor."
   ]
  },
  {
   "cell_type": "code",
   "execution_count": null,
   "metadata": {},
   "outputs": [],
   "source": [
    "def calculate_returns(pnl, debt_schedule, sponsor_equity_investment, exit_multiple_val):\n",
    "    # Exit Calculation\n",
    "    exit_year = pnl.columns[-1]\n",
    "    exit_ebitda = pnl.loc['EBITDA', exit_year]\n",
    "    exit_ev = exit_ebitda * exit_multiple_val\n",
    "    \n",
    "    debt_at_exit = debt_schedule.loc['TLA_End', exit_year] + debt_schedule.loc['TLB_End', exit_year]\n",
    "    exit_equity_value = exit_ev - debt_at_exit\n",
    "    \n",
    "    # Returns Calculation\n",
    "    moic = exit_equity_value / sponsor_equity_investment\n",
    "    \n",
    "    # IRR Calculation\n",
    "    cash_flows = [-sponsor_equity_investment] + [0] * (proj_years - 1) + [exit_equity_value]\n",
    "    irr = npf.irr(cash_flows)\n",
    "    \n",
    "    # Display Results\n",
    "    print(f\"--- Exit & Returns Analysis (Exit Multiple: {exit_multiple_val:.1f}x) ---\")\n",
    "    print(f\"Exit Year EBITDA:       {exit_ebitda:,.2f}\")\n",
    "    print(f\"Exit Enterprise Value:  {exit_ev:,.2f}\")\n",
    "    print(f\"Debt at Exit:           ({-debt_at_exit:,.2f})\")\n",
    "    print(\"-----------------------------------------\")\n",
    "    print(f\"Exit Equity Proceeds:   {exit_equity_value:,.2f}\")\n",
    "    print(f\"Initial Sponsor Equity: {sponsor_equity_investment:,.2f}\")\n",
    "    print(\"-----------------------------------------\")\n",
    "    print(f\"MOIC:                   {moic:.2f}x\")\n",
    "    print(f\"IRR:                    {irr:.2%}\")\n",
    "\n",
    "# Main calculation with interactive sliders\n",
    "@interact(exit_mult=FloatSlider(min=8.0, max=14.0, step=0.5, value=exit_multiple, description='Exit Multiple'))\n",
    "def interactive_returns(exit_mult):\n",
    "    calculate_returns(pnl_df, debt_df, sponsor_equity, exit_mult)\n"
   ]
  }
 ],
 "metadata": {
  "kernelspec": {
   "display_name": "Python 3",
   "language": "python",
   "name": "python3"
  },
  "language_info": {
   "codemirror_mode": {
    "name": "ipython",
    "version": 3
   },
   "file_extension": ".py",
   "mimetype": "text/x-python",
   "name": "python",
   "nbconvert_exporter": "python",
   "pygments_lexer": "ipython3",
   "version": "3.8.8"
  }
 },
 "nbformat": 4,
 "nbformat_minor": 4
}
