{
 "cells": [
  {
   "cell_type": "markdown",
   "metadata": {},
   "source": [
    "# Interactive Guide to Analyzing Credit Agreements\n",
    "\n",
    "**Objective:** This notebook provides a basic framework and interactive exploration of key sections and clauses typically found in credit agreements, particularly those relevant to the broadly syndicated loan market. It uses illustrative examples of clauses.\n",
    "\n",
    "**Disclaimer:** This notebook is for educational and illustrative purposes only. The clauses presented are generic and simplified. Actual credit agreements are complex legal documents. **Always consult with legal professionals for interpretation of actual legal documents.** This is NOT legal advice."
   ]
  },
  {
   "cell_type": "markdown",
   "metadata": {},
   "source": [
    "## 1. Setup and Data Loading\n",
    "\n",
    "We'll import necessary libraries and load our sample credit agreement clauses from a JSON file. This file contains illustrative examples of definitions, covenants, and other key terms."
   ]
  },
  {
   "cell_type": "code",
   "execution_count": null,
   "metadata": {},
   "outputs": [],
   "source": [
    "import json\n",
    "import pandas as pd\n",
    "from IPython.display import display, HTML, Markdown\n",
    "from ipywidgets import interact, widgets, VBox, HBox, Layout\n",
    "\n",
    "# Load the sample clauses\n",
    "try:\n",
    "    with open('data/sample_credit_agreement_clauses.json', 'r') as f:\n",
    "        agreement_data = json.load(f)\n",
    "    print(\"Sample credit agreement clauses loaded successfully.\")\n",
    "    # print(json.dumps(agreement_data['definitions'][:1], indent=2)) # Print a sample definition\n",
    "except FileNotFoundError:\n",
    "    print(\"Error: 'data/sample_credit_agreement_clauses.json' not found.\")\n",
    "    agreement_data = {} # Initialize to prevent errors later\n",
    "\n",
    "# Helper function to display formatted sections\n",
    "def display_section(title, items, fields_to_display):\n",
    "    if not items:\n",
    "        display(Markdown(f\"### {title}\\n*No data available for this section.*\"))\n",
    "        return\n",
    "    \n",
    "    display(Markdown(f\"### {title}\"))\n",
    "    for item in items:\n",
    "        content = \"<div style='border:1px solid #e0e0e0; padding:10px; margin-bottom:10px; border-radius:5px;'>\"\n",
    "        for field, label in fields_to_display.items():\n",
    "            if field in item:\n",
    "                content += f\"<strong>{label}:</strong> {item[field]}<br>\"\n",
    "        content += \"</div>\"\n",
    "        display(HTML(content))\n",
    "\n",
    "def display_term_definition(term_name):\n",
    "    if 'definitions' in agreement_data:\n",
    "        for term_data in agreement_data['definitions']:\n",
    "            if term_data['term'].lower() == term_name.lower():\n",
    "                display(Markdown(f\"#### {term_data['term']}\\n**Definition:** {term_data['definition']}\\n\\n**Notes:** *{term_data.get('notes', 'N/A')}*\"))\n",
    "                return\n",
    "    display(Markdown(f\"_Definition for '{term_name}' not found in sample data._\"))"
   ]
  },
  {
   "cell_type": "markdown",
   "metadata": {},
   "source": [
    "## 2. Navigating a Credit Agreement: Key Sections\n",
    "\n",
    "Credit agreements are lengthy and dense. Knowing the typical structure helps in locating key information efficiently. Common sections include:\n",
    "\n",
    "*   **Definitions:** Crucial for understanding every capitalized term used in the agreement. The exact wording here can significantly alter the meaning and impact of other clauses.\n",
    "*   **Loan Terms & Commitments:** Details amounts, interest rates, fees, maturity dates, conditions precedent to funding.\n",
    "*   **Representations & Warranties:** Statements made by the borrower about its business and financial condition, assumed true at signing.\n",
    "*   **Covenants:**\n",
    "    *   **Affirmative Covenants:** Actions the borrower *must* take (e.g., provide financials, pay taxes).\n",
    "    *   **Negative Covenants:** Actions the borrower *cannot* take without lender consent (e.g., incur more debt, sell key assets, make restricted payments).\n",
    "    *   **Financial Covenants:** Specific financial ratios the borrower must maintain (e.g., leverage ratio, coverage ratio).\n",
    "*   **Events of Default (EoDs):** Specific events that trigger a default (e.g., non-payment, covenant breach, bankruptcy).\n",
    "*   **Remedies:** Actions lenders can take upon an Event of Default (e.g., accelerate the loan, seize collateral).\n",
    "*   **The Administrative Agent:** Roles and responsibilities of the lead bank.\n",
    "*   **Miscellaneous:** Governing law, notices, amendments, assignments, etc."
   ]
  },
  {
   "cell_type": "markdown",
   "metadata": {},
   "source": [
    "### 2.1. Interactive Definitions Explorer\n",
    "Select a term from the dropdown (populated from our sample JSON) to see its illustrative definition and notes."
   ]
  },
  {
   "cell_type": "code",
   "execution_count": null,
   "metadata": {},
   "outputs": [],
   "source": [
    "if 'definitions' in agreement_data:\n",
    "    definition_terms = sorted([d['term'] for d in agreement_data['definitions']])\n",
    "    interact(display_term_definition, term_name=widgets.Dropdown(options=definition_terms, description='Select Term:'))\n",
    "else:\n",
    "    print(\"Definitions data not loaded.\")"
   ]
  },
  {
   "cell_type": "markdown",
   "metadata": {},
   "source": [
    "## 3. Analyzing Key Covenant Categories\n",
    "\n",
    "Let's look at illustrative examples of different covenant types from our sample data."
   ]
  },
  {
   "cell_type": "code",
   "execution_count": null,
   "metadata": {},
   "outputs": [],
   "source": [
    "if 'affirmative_covenants' in agreement_data:\n",
    "    display_section(\"Illustrative Affirmative Covenants\", \n",
    "                      agreement_data['affirmative_covenants'], \n",
    "                      {'clause_name': 'Covenant', 'description': 'Description', 'analyst_focus': 'Analyst Focus'})\n",
    "else:\n",
    "    print(\"Affirmative covenants data not loaded.\")\n",
    "\n",
    "if 'negative_covenants' in agreement_data:\n",
    "    display_section(\"Illustrative Negative Covenants\", \n",
    "                      agreement_data['negative_covenants'], \n",
    "                      {'clause_name': 'Covenant', 'description': 'Description', 'analyst_focus': 'Analyst Focus'})\n",
    "else:\n",
    "    print(\"Negative covenants data not loaded.\")\n",
    "\n",
    "if 'financial_covenants' in agreement_data:\n",
    "    display_section(\"Illustrative Financial Covenants\", \n",
    "                      agreement_data['financial_covenants'], \n",
    "                      {'covenant_name': 'Covenant', 'test': 'Test', 'type': 'Type', 'notes': 'Notes'})\n",
    "else:\n",
    "    print(\"Financial covenants data not loaded.\")"
   ]
  },
  {
   "cell_type": "markdown",
   "metadata": {},
   "source": [
    "## 4. Understanding Events of Default (EoDs) & Remedies\n",
    "\n",
    "EoDs are critical triggers. Upon an EoD, lenders gain significant rights (remedies)."
   ]
  },
  {
   "cell_type": "code",
   "execution_count": null,
   "metadata": {},
   "outputs": [],
   "source": [
    "if 'events_of_default' in agreement_data:\n",
    "    display_section(\"Illustrative Events of Default\", \n",
    "                      agreement_data['events_of_default'], \n",
    "                      {'event': 'Event', 'description': 'Description', 'notes': 'Notes'})\n",
    "else:\n",
    "    print(\"Events of Default data not loaded.\")\n",
    "\n",
    "if 'remedies' in agreement_data:\n",
    "    display_section(\"Illustrative Remedies\", \n",
    "                      agreement_data['remedies'], \n",
    "                      {'remedy_name': 'Remedy', 'description': 'Description', 'notes': 'Notes'})\n",
    "else:\n",
    "    print(\"Remedies data not loaded.\")"
   ]
  },
  {
   "cell_type": "markdown",
   "metadata": {},
   "source": [
    "## 5. Conceptual Waterfall Example\n",
    "\n",
    "Waterfalls dictate the priority of payments, especially in distressed situations or structured deals."
   ]
  },
  {
   "cell_type": "code",
   "execution_count": null,
   "metadata": {},
   "outputs": [],
   "source": [
    "if 'waterfall_concept' in agreement_data:\n",
    "    wc = agreement_data['waterfall_concept']\n",
    "    display(Markdown(f\"### {wc['name']}\\n{wc['description']}\"))\n",
    "    priority_html = \"<ol style='list-style-type: decimal; padding-left: 20px;'>\"\n",
    "    for item in wc['priority']:\n",
    "        priority_html += f\"<li>{item}</li>\"\n",
    "    priority_html += \"</ol>\"\n",
    "    display(HTML(priority_html))\n",
    "    display(Markdown(f\"**Notes:** *{wc['notes']}*\"))\n",
    "else:\n",
    "    print(\"Waterfall concept data not loaded.\")"
   ]
  },
  {
   "cell_type": "markdown",
   "metadata": {},
   "source": [
    "## 6. Interactive Checklist & Scenario Q&A\n",
    "\n",
    "This section provides a simple interactive checklist for reviewing key areas and a scenario-based question."
   ]
  },
  {
   "cell_type": "code",
   "execution_count": null,
   "metadata": {},
   "outputs": [],
   "source": [
    "checklist_items_data = {\n",
    "    \"Definitions\": \"Are key terms like 'EBITDA', 'Indebtedness', and 'Change of Control' clearly defined and appropriate for the borrower?\",\n",
    "    \"Financial Covenants\": \"Are financial covenants set at appropriate levels with adequate headroom? Are they maintenance or incurrence?\",\n",
    "    \"Negative Covenants\": \"Do negative covenants (debt, liens, restricted payments, asset sales) sufficiently protect lenders? Are baskets and permissions reasonable?\",\n",
    "    \"Events of Default\": \"Are EoDs comprehensive? Are grace periods appropriate? Does it include a cross-default clause?\",\n",
    "    \"Security & Guarantees\": \"(If secured) Is collateral well-defined and perfected? Are guarantees robust?\"\n",
    "}\n",
    "\n",
    "checklist_widgets = []\n",
    "for item_key, item_text in checklist_items_data.items():\n",
    "    checklist_widgets.append(widgets.Checkbox(description=item_key, value=False, indent=False))\n",
    "    # To display the helper text, we'll handle it outside the VBox for better formatting\n",
    "\n",
    "display(Markdown(\"### Key Review Checklist (Illustrative):\"))\n",
    "for cb in checklist_widgets:\n",
    "    display(cb)\n",
    "    display(Markdown(f\"<p style='font-size:0.9em; color:grey; margin-left:20px;'><em>Prompt: {checklist_items_data[cb.description]}</em></p>\"))\n",
    "\n",
    "display(Markdown(\"---</br>### Scenario Q&A:\"))\n",
    "\n",
    "scenario_question = widgets.Label(value=\"Scenario: A company's EBITDA declines by 20%, and its Leverage Ratio covenant is Max Debt/EBITDA of 4.0x. Its current Debt is $400M and EBITDA was $120M. Is the covenant likely breached after the decline?\")\n",
    "scenario_options = widgets.RadioButtons(\n",
    "    options=['Yes, likely breached', 'No, likely not breached', 'Cannot determine'],\n",
    "    description='Answer:',\n",
    "    disabled=False\n",
    ")\n",
    "scenario_feedback = widgets.Output()\n",
    "\n",
    "def check_scenario_answer(b):\n",
    "    with scenario_feedback:\n",
    "        scenario_feedback.clear_output()\n",
    "        original_leverage = 400 / 120\n",
    "        new_ebitda = 120 * 0.80\n",
    "        new_leverage = 400 / new_ebitda\n",
    "        correct_answer = 'Yes, likely breached'\n",
    "        is_correct = (scenario_options.value == correct_answer)\n",
    "        \n",
    "        result_text = f\"Original Leverage: {original_leverage:.2f}x. New EBITDA: ${new_ebitda:.1f}M. New Leverage: {new_leverage:.2f}x.\"\n",
    "        if is_correct:\n",
    "            display(Markdown(f\"<p style='color:green;'>Correct! {result_text} Since {new_leverage:.2f}x > 4.0x, the covenant is breached.</p>\"))\n",
    "        else:\n",
    "            display(Markdown(f\"<p style='color:red;'>Not quite. {result_text} The correct answer is '{correct_answer}' because {new_leverage:.2f}x > 4.0x.</p>\"))\n",
    "\n",
    "scenario_button = widgets.Button(description=\"Check Answer\")\n",
    "scenario_button.on_click(check_scenario_answer)\n",
    "\n",
    "display(VBox([scenario_question, scenario_options, scenario_button, scenario_feedback]))"
   ]
  },
  {
   "cell_type": "markdown",
   "metadata": {},
   "source": [
    "## 7. Conclusion & Further Learning\n",
    "\n",
    "This notebook provided a very basic interactive overview of key elements in analyzing credit agreements. Real agreements are far more detailed and nuanced.\n",
    "\n",
    "**Key Takeaways:**\n",
    "*   **Definitions are paramount.**\n",
    "*   **Covenants (financial and negative) are key protections.** Understand their specific calculations and permissions.\n",
    "*   **Events of Default define lender rights.**\n",
    "*   Always consider the **specifics of the borrower, industry, and transaction** when reviewing legal documents.\n",
    "\n",
    "**Further Learning from the Repository:**\n",
    "*   CRAFT Module 6 (`corporate-credit-risk-analyst-training/modules/06-advanced-topics/14-legal-aspects-loan-docs.md`) for more on legal aspects.\n",
    "*   Relevant sections in `Risk_Management/` for understanding the risks these clauses try to mitigate.\n",
    "\n",
    "Remember to download this `.ipynb` file to run and modify the code interactively in your own Jupyter environment if you are viewing this as static HTML."
   ]
  }
 ],
 "metadata": {
  "kernelspec": {
   "display_name": "Python 3",
   "language": "python",
   "name": "python3"
  },
  "language_info": {
   "codemirror_mode": {
    "name": "ipython",
    "version": 3
   },
   "file_extension": ".py",
   "mimetype": "text/x-python",
   "name": "python",
   "nbconvert_exporter": "python",
   "pygments_lexer": "ipython3",
   "version": "3.9.12"
  }
 },
 "nbformat": 4,
 "nbformat_minor": 2
}
