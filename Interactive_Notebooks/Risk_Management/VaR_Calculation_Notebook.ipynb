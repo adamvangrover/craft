{
 "cells": [
  {
   "cell_type": "markdown",
   "metadata": {},
   "source": [
    "# Interactive Value at Risk (VaR) Calculator\n",
    "\n",
    "**Purpose:** This notebook provides a hands-on, interactive way to understand and calculate Value at Risk (VaR), a key measure of market risk. It explores different VaR calculation methodologies (Historical Simulation and Parametric) and allows you to see how various inputs affect VaR outcomes.\n",
    "\n",
    "**Target Audience:** Students of finance, risk management professionals, CFA candidates, or anyone interested in a practical introduction to VaR.\n",
    "\n",
    "**How to Use:** Run the cells sequentially. Use the interactive sliders and input fields that appear to change parameters and see how the calculations and visualizations update in real-time."
   ]
  },
  {
   "cell_type": "markdown",
   "metadata": {},
   "source": [
    "## Section 1: Setup and Data Generation\n",
    "\n",
    "First, we import the necessary Python libraries and set up some functions to generate sample portfolio return data. This ensures the notebook is self-contained and can be run without needing to fetch live data."
   ]
  },
  {
   "cell_type": "code",
   "execution_count": null,
   "metadata": {},
   "outputs": [],
   "source": [
    "import pandas as pd\n",
    "import numpy as np\n",
    "import matplotlib.pyplot as plt\n",
    "import seaborn as sns\n",
    "from scipy.stats import norm\n",
    "from ipywidgets import interact, fixed, FloatSlider, IntSlider\n",
    "\n",
    "sns.set_style('whitegrid')\n",
    "\n",
    "# --- Data Generation ---\n",
    "def generate_sample_returns(n_days=1000, mean_return=0.0005, std_dev=0.015):\n",
    "    \"\"\"Generates a sample series of normally distributed daily returns.\"\"\"\n",
    "    np.random.seed(42) # for reproducibility\n",
    "    returns = np.random.normal(mean_return, std_dev, n_days)\n",
    "    return pd.Series(returns, name='Daily Returns')\n",
    "\n",
    "# Generate our base dataset\n",
    "initial_portfolio_value = 1000000\n",
    "returns_data = generate_sample_returns()\n",
    "\n",
    "print(f\"Generated {len(returns_data)} days of sample return data.\")\n",
    "print(\"Sample Mean Daily Return:\", returns_data.mean())\n",
    "print(\"Sample Std Dev of Daily Return:\", returns_data.std())"
   ]
  },
  {
   "cell_type": "markdown",
   "metadata": {},
   "source": [
    "## Section 2: Historical Simulation VaR\n",
    "\n",
    "The Historical Simulation method is the most straightforward way to calculate VaR. It makes no assumptions about the distribution of returns and simply uses the actual historical returns to model what could happen in the future.\n",
    "\n",
    "**Method:**\n",
    "1. Take a series of historical returns.\n",
    "2. Sort the returns from worst to best.\n",
    "3. Find the return at the desired percentile. For example, for a 99% VaR, we find the 1st percentile's worst loss."
   ]
  },
  {
   "cell_type": "code",
   "execution_count": null,
   "metadata": {},
   "outputs": [],
   "source": [
    "def calculate_historical_var(returns, confidence_level=99, portfolio_value=initial_portfolio_value):\n",
    "    \"\"\"Calculates VaR using the historical simulation method.\"\"\"\n",
    "    # For a 99% confidence level, we want the 1st percentile (100 - 99 = 1)\n",
    "    var_percentile = 100 - confidence_level\n",
    "    var_return = np.percentile(returns, var_percentile)\n",
    "    var_amount = var_return * portfolio_value\n",
    "    return var_return, var_amount\n",
    "\n",
    "def plot_historical_var(returns, confidence_level, portfolio_value):\n",
    "    var_return, var_amount = calculate_historical_var(returns, confidence_level, portfolio_value)\n",
    "    \n",
    "    plt.figure(figsize=(12, 6))\n",
    "    sns.histplot(returns, bins=50, kde=True, color='skyblue', stat='density')\n",
    "    plt.axvline(x=var_return, color='red', linestyle='--', linewidth=2, label=f'{confidence_level}% VaR Threshold')\n",
    "    plt.title(f'Historical Daily Returns Distribution with {confidence_level}% VaR')\n",
    "    plt.xlabel('Daily Return')\n",
    "    plt.ylabel('Density')\n",
    "    plt.legend()\n",
    "    plt.show()\n",
    "    \n",
    "    print(f\"Based on historical simulation:\")\n",
    "    print(f\"The return at the {100-confidence_level:.1f}th percentile is {var_return:.4f}.\")\n",
    "    print(f\"For a portfolio of ${portfolio_value:,.0f}, the {confidence_level}% VaR is ${-var_amount:,.2f}.\")\n",
    "    print(f\"This means there is a {100-confidence_level:.1f}% chance of losing more than ${-var_amount:,.2f} in one day.\")\n",
    "\n",
    "# Interactive widget for Historical VaR\n",
    "interact(\n",
    "    plot_historical_var,\n",
    "    returns=fixed(returns_data),\n",
    "    confidence_level=FloatSlider(min=90.0, max=99.9, step=0.1, value=99.0, description='Confidence Level (%)'),\n",
    "    portfolio_value=fixed(initial_portfolio_value)\n",
    ");"
   ]
  },
  {
   "cell_type": "markdown",
   "metadata": {},
   "source": [
    "## Section 3: Parametric (Variance-Covariance) VaR\n",
    "\n",
    "The Parametric method assumes that returns follow a specific distribution, typically the normal distribution. It uses the mean and standard deviation of historical returns to calculate VaR.\n",
    "\n",
    "**Method:**\n",
    "1. Calculate the mean (μ) and standard deviation (σ) of historical returns.\n",
    "2. Find the z-score corresponding to the desired confidence level from the standard normal distribution.\n",
    "3. Apply the formula: `VaR = Portfolio Value * (μ + z * σ)`"
   ]
  },
  {
   "cell_type": "code",
   "execution_count": null,
   "metadata": {},
   "outputs": [],
   "source": [
    "def calculate_parametric_var(returns, confidence_level=99, portfolio_value=initial_portfolio_value):\n",
    "    \"\"\"Calculates VaR using the parametric (variance-covariance) method.\"\"\"\n",
    "    mean = returns.mean()\n",
    "    std_dev = returns.std()\n",
    "    \n",
    "    # For a 99% confidence level, we want the z-score for the 1st percentile\n",
    "    alpha = 1 - (confidence_level / 100)\n",
    "    z_score = norm.ppf(alpha) # ppf is the Percent Point Function (inverse of cdf)\n",
    "    \n",
    "    var_return = mean + z_score * std_dev\n",
    "    var_amount = var_return * portfolio_value\n",
    "    return var_return, var_amount\n",
    "\n",
    "def plot_parametric_var(returns, confidence_level, portfolio_value):\n",
    "    mean = returns.mean()\n",
    "    std_dev = returns.std()\n",
    "    var_return, var_amount = calculate_parametric_var(returns, confidence_level, portfolio_value)\n",
    "    \n",
    "    plt.figure(figsize=(12, 6))\n",
    "    # Plot the theoretical normal distribution\n",
    "    x = np.linspace(mean - 4*std_dev, mean + 4*std_dev, 1000)\n",
    "    y = norm.pdf(x, mean, std_dev)\n",
    "    plt.plot(x, y, label='Normal Distribution', color='blue')\n",
    "    \n",
    "    # Shade the tail\n",
    "    plt.fill_between(x, y, where=(x < var_return), color='red', alpha=0.5, label=f'{100-confidence_level:.1f}% Tail')\n",
    "    \n",
    "    plt.axvline(x=var_return, color='red', linestyle='--', linewidth=2, label=f'{confidence_level}% VaR Threshold')\n",
    "    plt.title(f'Parametric VaR based on Normal Distribution')\n",
    "    plt.xlabel('Daily Return')\n",
    "    plt.ylabel('Probability Density')\n",
    "    plt.legend()\n",
    "    plt.show()\n",
    "    \n",
    "    print(f\"Based on the parametric (variance-covariance) method:\")\n",
    "    print(f\"The return at the {100-confidence_level:.1f}th percentile is {var_return:.4f}.\")\n",
    "    print(f\"For a portfolio of ${portfolio_value:,.0f}, the {confidence_level}% VaR is ${-var_amount:,.2f}.\")\n",
    "    print(f\"This assumes returns are normally distributed with a mean of {mean:.4f} and std dev of {std_dev:.4f}.\")\n",
    "\n",
    "# Interactive widget for Parametric VaR\n",
    "interact(\n",
    "    plot_parametric_var,\n",
    "    returns=fixed(returns_data),\n",
    "    confidence_level=FloatSlider(min=90.0, max=99.9, step=0.1, value=99.0, description='Confidence Level (%)'),\n",
    "    portfolio_value=fixed(initial_portfolio_value)\n",
    ");"
   ]
  },
  {
   "cell_type": "markdown",
   "metadata": {},
   "source": [
    "## Section 4: Comparing Methods and Limitations\n",
    "\n",
    "*   **Historical VaR:** \n",
    "    *   **Pros:** Easy to understand, doesn't assume a normal distribution (captures fat tails if they existed in the past).\n",
    "    *   **Cons:** Assumes the past is a good representation of the future; sensitive to the lookback period.\n",
    "*   **Parametric VaR:** \n",
    "    *   **Pros:** Easy to calculate, only requires mean and standard deviation.\n",
    "    *   **Cons:** Relies heavily on the assumption of normality, which is often not true for financial returns (they tend to have 'fat tails'). Can significantly underestimate risk if the distribution is not normal.\n",
    "\n",
    "Notice how the VaR numbers from the two methods can differ slightly. The choice of method depends on the user's assumptions about return distributions and the available data."
   ]
  }
 ],
 "metadata": {
  "kernelspec": {
   "display_name": "Python 3",
   "language": "python",
   "name": "python3"
  },
  "language_info": {
   "codemirror_mode": {
    "name": "ipython",
    "version": 3
   },
   "file_extension": ".py",
   "mimetype": "text/x-python",
   "name": "python",
   "nbconvert_exporter": "python",
   "pygments_lexer": "ipython3",
   "version": "3.8.8"
  }
 },
 "nbformat": 4,
 "nbformat_minor": 4
}
