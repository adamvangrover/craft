{
 "cells": [
  {
   "cell_type": "markdown",
   "metadata": {},
   "source": [
    "# Interactive Case Study: Assigning a Regulatory Rating\n",
    "\n",
    "Welcome to this interactive case study. You will be presented with a credit scenario and asked to analyze the company's financial and qualitative data. Along the way, you will be prompted to make your own assessments and recommendations. Let's get started!"
   ]
  },
  {
   "cell_type": "markdown",
   "metadata": {},
   "source": [
    "## I. The Scenario\n",
    "\n",
    "You are a credit analyst at a regional bank. You are responsible for the annual review of a $25 million term loan to \"Cycle Components Inc.\", a manufacturer of bicycle components."
   ]
  },
  {
   "cell_type": "markdown",
   "metadata": {},
   "source": [
    "## II. Financial Data\n",
    "\n",
    "Here is the company's recent financial performance:"
   ]
  },
  {
   "cell_type": "code",
   "execution_count": null,
   "metadata": {},
   "outputs": [],
   "source": [
    "import pandas as pd\n",
    "\n",
    "data = {'Metric': ['Revenue', 'EBITDA', 'EBITDA Margin', 'Total Debt/EBITDA', 'Fixed Charge Coverage'],\n",
    "        'Year 1': ['$100M', '$15M', '15.0%', '2.0x', '2.5x'],\n",
    "        'Year 2': ['$120M', '$18M', '15.0%', '1.7x', '3.0x'],\n",
    "        'Year 3 (LTM)': ['$110M', '$12M', '10.9%', '2.5x', '1.5x']}\n",
    "\n",
    "df = pd.DataFrame(data)\n",
    "print(df)"
   ]
  },
  {
   "cell_type": "markdown",
   "metadata": {},
   "source": [
    "## III. Your Analysis\n",
    "\n",
    "Based on the financial data above, what are your key observations? What trends do you see? Enter your analysis in the cell below."
   ]
  },
  {
   "cell_type": "code",
   "execution_count": null,
   "metadata": {
    "tags": [
     "user_input"
    ]
   },
   "outputs": [],
   "source": [
    "user_analysis = \"\"\"\\n\n\"\"\""
   ]
  },
  {
   "cell_type": "markdown",
   "metadata": {},
   "source": [
    "## IV. Qualitative Factors\n",
    "\n",
    "Here are some key qualitative factors to consider:\n",
    "\n",
    "- **Management:** The company's founder and CEO recently retired. The new CEO is a seasoned executive from a larger, publicly traded company, but has no prior experience in the cycling industry.\n",
    "- **Industry:** The cycling industry experienced a boom during the pandemic, but sales have since normalized. There is concern about oversupply in the market.\n",
    "- **Competition:** The industry is highly competitive, with a number of large, well-capitalized players.\n",
    "- **Strategy:** The new CEO has announced a new strategy to move into the high-end, custom bicycle market. This will require significant capital investment and will put the company in direct competition with a number of established, high-end brands."
   ]
  },
  {
   "cell_type": "markdown",
   "metadata": {},
   "source": [
    "## V. Your Recommendation\n",
    "\n",
    "Based on your analysis of the financial and qualitative factors, what regulatory rating would you assign to this credit? Choose from the options below and justify your answer."
   ]
  },
  {
   "cell_type": "code",
   "execution_count": null,
   "metadata": {
    "tags": [
     "user_input"
    ]
   },
   "outputs": [],
   "source": [
    "rating_recommendation = \"\"\n",
    "justification = \"\"\"\\n\n\"\"\""
   ]
  },
  {
   "cell_type": "markdown",
   "metadata": {},
   "source": [
    "## VI. Feedback\n",
    "\n",
    "Run the cell below to get feedback on your recommendation."
   ]
  },
  {
   "cell_type": "code",
   "execution_count": null,
   "metadata": {},
   "outputs": [],
   "source": [
    "def get_feedback(rating):\n",
    "    if rating.lower() == 'pass':\n",
    "        return \"A 'Pass' rating may be too optimistic. While the company is not in immediate distress, the negative trends in financial performance, the new and unproven strategy, and the challenging industry environment all suggest a higher level of risk.\"\n",
    "    elif rating.lower() == 'special mention':\n",
    "        return \"A 'Special Mention' rating is a good choice. The credit has potential weaknesses that warrant close attention from management. The negative trends in financial performance, the new and unproven strategy, and the challenging industry environment all point to an elevated level of risk.\"\n",
    "    elif rating.lower() == 'substandard':\n",
    "        return \"A 'Substandard' rating may be too harsh at this point. While there are potential weaknesses, there is not yet a well-defined weakness that jeopardizes the timely repayment of the loan.\"\n",
    "    else:\n",
    "        return \"Please choose from 'Pass', 'Special Mention', or 'Substandard'.\"\n",
    "\n",
    "print(get_feedback(rating_recommendation))"
   ]
  }
 ],
 "metadata": {
  "kernelspec": {
   "display_name": "Python 3",
   "language": "python",
   "name": "python3"
  },
  "language_info": {
   "codemirror_mode": {
    "name": "ipython",
    "version": 3
   },
   "file_extension": ".py",
   "mimetype": "text/x-python",
   "name": "python",
   "nbconvert_exporter": "python",
   "pygments_lexer": "ipython3",
   "version": "3.7.6"
  }
 },
 "nbformat": 4,
 "nbformat_minor": 4
}
