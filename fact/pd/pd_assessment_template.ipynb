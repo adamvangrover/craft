{
 "cells": [
  {
   "cell_type": "markdown",
   "metadata": {},
   "source": [
    "# Probability of Default (PD) Assessment Template\n",
    "\n",
    "This notebook provides a practical template for assessing the probability of default for a specific company. It includes sections for inputting qualitative and quantitative data, pre-built calculations for key financial ratios, and a simple scoring model to generate a preliminary credit rating."
   ]
  },
  {
   "cell_type": "markdown",
   "metadata": {},
   "source": [
    "## 1. Input Company Data"
   ]
  },
  {
   "cell_type": "code",
   "execution_count": null,
   "metadata": {},
   "outputs": [],
   "source": [
    "# Quantitative Data\n",
    "total_debt = 1000 # in millions\n",
    "cash_and_equivalents = 100 # in millions\n",
    "ebitda = 200 # in millions\n",
    "interest_expense = 50 # in millions\n",
    "funds_from_operations = 150 # in millions\n",
    "capital_expenditures = 75 # in millions\n",
    "total_assets = 2000 # in millions\n",
    "shareholders_equity = 1000 # in millions\n",
    "current_assets = 500 # in millions\n",
    "current_liabilities = 250 # in millions\n",
    "inventory = 100 # in millions\n",
    "sales = 1000 # in millions"
   ]
  },
  {
   "cell_type": "markdown",
   "metadata": {},
   "source": [
    "## 2. Qualitative Assessment"
   ]
  },
  {
   "cell_type": "code",
   "execution_count": null,
   "metadata": {},
   "outputs": [],
   "source": [
    "# Qualitative Scores (1-5, where 5 is best)\n",
    "management_quality = 4\n",
    "competitive_position = 3\n",
    "industry_risk = 3\n",
    "corporate_governance = 4\n",
    "esg_factors = 3"
   ]
  },
  {
   "cell_type": "markdown",
   "metadata": {},
   "source": [
    "## 3. Calculate Key Financial Ratios"
   ]
  },
  {
   "cell_type": "code",
   "execution_count": null,
   "metadata": {},
   "outputs": [],
   "source": [
    "net_debt = total_debt - cash_and_equivalents\n",
    "net_debt_to_ebitda = net_debt / ebitda\n",
    "ebitda_to_interest_expense = ebitda / interest_expense\n",
    "ffo_to_net_debt = funds_from_operations / net_debt\n",
    "debt_to_capital = total_debt / (total_debt + shareholders_equity)\n",
    "current_ratio = current_assets / current_liabilities\n",
    "quick_ratio = (current_assets - inventory) / current_liabilities\n",
    "ebitda_margin = ebitda / sales"
   ]
  },
  {
   "cell_type": "markdown",
   "metadata": {},
   "source": [
    "## 4. Simple Scoring Model"
   ]
  },
  {
   "cell_type": "code",
   "execution_count": null,
   "metadata": {},
   "outputs": [],
   "source": [
    "quantitative_score = 0\n",
    "if net_debt_to_ebitda < 2.0:\n",
    "    quantitative_score += 5\n",
    "elif net_debt_to_ebitda < 4.0:\n",
    "    quantitative_score += 3\n",
    "else:\n",
    "    quantitative_score += 1\n",
    "\n",
    "if ebitda_to_interest_expense > 8.0:\n",
    "    quantitative_score += 5\n",
    "elif ebitda_to_interest_expense > 4.0:\n",
    "    quantitative_score += 3\n",
    "else:\n",
    "    quantitative_score += 1\n",
    "\n",
    "qualitative_score = management_quality + competitive_position + industry_risk + corporate_governance + esg_factors\n",
    "\n",
    "total_score = (quantitative_score * 0.6) + (qualitative_score * 0.4)\n",
    "\n",
    "preliminary_rating = \"\"\n",
    "if total_score >= 25:\n",
    "    preliminary_rating = \"Investment Grade (A)\"\n",
    "elif total_score >= 20:\n",
    "    preliminary_rating = \"Investment Grade (BBB)\"\n",
    "elif total_score >= 15:\n",
    "    preliminary_rating = \"Speculative Grade (BB)\"\n",
    "elif total_score >= 10:\n",
    "    preliminary_rating = \"Speculative Grade (B)\"\n",
    "else:\n",
    "    preliminary_rating = \"Speculative Grade (CCC or lower)\""
   ]
  },
  {
   "cell_type": "markdown",
   "metadata": {},
   "source": [
    "## 5. Results and Visualization"
   ]
  },
  {
   "cell_type": "code",
   "execution_count": null,
   "metadata": {},
   "outputs": [],
   "source": [
    "import matplotlib.pyplot as plt\n",
    "\n",
    "print(f\"Net Debt / EBITDA: {net_debt_to_ebitda:.2f}x\")\n",
    "print(f\"EBITDA / Interest Expense: {ebitda_to_interest_expense:.2f}x\")\n",
    "print(f\"FFO / Net Debt: {ffo_to_net_debt:.2%}\")\n",
    "print(f\"Debt / Capital: {debt_to_capital:.2%}\")\n",
    "print(f\"Current Ratio: {current_ratio:.2f}x\")\n",
    "print(f\"Quick Ratio: {quick_ratio:.2f}x\")\n",
    "print(f\"EBITDA Margin: {ebitda_margin:.2%}\")\n",
    "print(f\"\\nTotal Score: {total_score:.2f}\")\n",
    "print(f\"Preliminary Rating: {preliminary_rating}\")\n",
    "\n",
    "labels = ['Quantitative', 'Qualitative']\n",
    "scores = [quantitative_score, qualitative_score]\n",
    "\n",
    "plt.figure(figsize=(8, 6))\n",
    "plt.bar(labels, scores, color=['skyblue', 'lightgreen'])\n",
    "plt.title('Credit Score Breakdown')\n",
    "plt.ylabel('Score')\n",
    "plt.show()"
   ]
  }
 ],
 "metadata": {
  "kernelspec": {
   "display_name": "Python 3",
   "language": "python",
   "name": "python3"
  },
  "language_info": {
   "codemirror_mode": {
    "name": "ipython",
    "version": 3
   },
   "file_extension": ".py",
   "mimetype": "text/x-python",
   "name": "python",
   "nbconvert_exporter": "python",
   "pygments_lexer": "ipython3",
   "version": "3.10.9"
  }
 },
 "nbformat": 4,
 "nbformat_minor": 4
}
