{
 "cells": [
  {
   "cell_type": "markdown",
   "metadata": {},
   "source": [
    "# Interactive Cash Flow Forecasting\n",
    "\n",
    "This notebook provides a simple, interactive model for forecasting a company's Unlevered Free Cash Flow (UFCF) for the next three years. \n",
    "\n",
    "The forecast is based on a set of key assumptions that you can modify using the sliders below. This allows you to see how changes in growth, profitability, and investment needs can impact a company's ability to generate cash.\n",
    "\n",
    "**Key Assumptions:**\n",
    "*   **Sales Growth Rate:** The annual percentage growth in sales.\n",
    "*   **COGS as % of Sales:** The Cost of Goods Sold as a percentage of sales.\n",
    "*   **SG&A as % of Sales:** Selling, General & Administrative expenses as a percentage of sales.\n",
    "*   **Tax Rate:** The corporate tax rate.\n",
    "*   **Capital Expenditures (CapEx):** The annual investment in PP&E.\n",
    "*   **Change in Net Working Capital (NWC):** The annual investment in short-term assets."
   ]
  },
  {
   "cell_type": "code",
   "execution_count": null,
   "metadata": {},
   "outputs": [],
   "source": [
    "import ipywidgets as widgets\n",
    "from ipywidgets import interact\n",
    "import pandas as pd"
   ]
  },
  {
   "cell_type": "code",
   "execution_count": null,
   "metadata": {},
   "outputs": [],
   "source": [
    "def forecast_cash_flow(sales_growth, cogs_percent, sga_percent, tax_rate, capex, nwc_change):\n",
    "    # Base year data\n",
    "    initial_sales = 1000\n",
    "\n",
    "    # Forecast years\n",
    "    years = ['Year 1', 'Year 2', 'Year 3']\n",
    "    forecast_data = {'Metric': ['Sales', 'COGS', 'Gross Profit', 'SG&A', 'EBIT', 'Taxes', 'NOPAT', 'CapEx', 'Change in NWC', 'UFCF']}\n",
    "\n",
    "    last_year_sales = initial_sales\n",
    "    for year in years:\n",
    "        sales = last_year_sales * (1 + sales_growth)\n",
    "        cogs = sales * cogs_percent\n",
    "        gross_profit = sales - cogs\n",
    "        sga = sales * sga_percent\n",
    "        ebit = gross_profit - sga\n",
    "        taxes = ebit * tax_rate\n",
    "        nopat = ebit - taxes\n",
    "        ufcf = nopat - capex - nwc_change\n",
    "        \n",
    "        forecast_data[year] = [sales, cogs, gross_profit, sga, ebit, taxes, nopat, capex, nwc_change, ufcf]\n",
    "        last_year_sales = sales\n",
    "\n",
    "    df = pd.DataFrame(forecast_data).set_index('Metric')\n",
    "    display(df.round(2))\n",
    "\n",
    "interactive_forecast = interact(forecast_cash_flow, \n",
    "    sales_growth=widgets.FloatSlider(min=0.0, max=0.2, step=0.01, value=0.1, description='Sales Growth'),\n",
    "    cogs_percent=widgets.FloatSlider(min=0.4, max=0.8, step=0.01, value=0.6, description='COGS %'),\n",
    "    sga_percent=widgets.FloatSlider(min=0.1, max=0.4, step=0.01, value=0.2, description='SG&A %'),\n",
    "    tax_rate=widgets.FloatSlider(min=0.15, max=0.35, step=0.01, value=0.25, description='Tax Rate'),\n",
    "    capex=widgets.IntSlider(min=20, max=100, step=5, value=50, description='CapEx'),\n",
    "    nwc_change=widgets.IntSlider(min=5, max=50, step=5, value=20, description='Change in NWC'))\n"
   ]
  }
 ],
 "metadata": {
  "kernelspec": {
   "display_name": "Python 3",
   "language": "python",
   "name": "python3"
  },
  "language_info": {
   "codemirror_mode": {
    "name": "ipython",
    "version": 3
   },
   "file_extension": ".py",
   "mimetype": "text/x-python",
   "name": "python",
   "nbconvert_exporter": "python",
   "pygments_lexer": "ipython3",
   "version": "3.10.9"
  }
 },
 "nbformat": 4,
 "nbformat_minor": 4
}
