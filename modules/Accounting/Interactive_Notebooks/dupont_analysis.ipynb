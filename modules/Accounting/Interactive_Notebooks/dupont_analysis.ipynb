{
 "cells": [
  {
   "cell_type": "markdown",
   "metadata": {},
   "source": [
    "# Interactive DuPont Analysis\n",
    "\n",
    "This notebook provides an interactive way to understand the DuPont analysis, which breaks down Return on Equity (ROE) into its three key components:\n",
    "\n",
    "1.  **Profitability** (Net Profit Margin)\n",
    "2.  **Asset Use Efficiency** (Total Asset Turnover)\n",
    "3.  **Financial Leverage** (Equity Multiplier)\n",
    "\n",
    "**ROE = (Net Income / Sales) * (Sales / Total Assets) * (Total Assets / Equity)**\n",
    "\n",
    "Use the sliders below to see how changing each input affects the ROE and its components."
   ]
  },
  {
   "cell_type": "code",
   "execution_count": null,
   "metadata": {},
   "outputs": [],
   "source": [
    "import ipywidgets as widgets\n",
    "from ipywidgets import interact, interactive, fixed, interact_manual\n",
    "import pandas as pd"
   ]
  },
  {
   "cell_type": "code",
   "execution_count": null,
   "metadata": {},
   "outputs": [],
   "source": [
    "def dupont_analysis(net_income, sales, assets, equity):\n",
    "    if sales == 0 or assets == 0 or equity == 0:\n",
    "        print(\"Sales, Assets, and Equity must be non-zero.\")\n",
    "        return\n",
    "\n",
    "    profit_margin = net_income / sales\n",
    "    asset_turnover = sales / assets\n",
    "    equity_multiplier = assets / equity\n",
    "    roe = profit_margin * asset_turnover * equity_multiplier\n",
    "\n",
    "    data = {\n",
    "        'Component': ['Profit Margin', 'Asset Turnover', 'Equity Multiplier', 'Return on Equity (ROE)'],\n",
    "        'Formula': ['Net Income / Sales', 'Sales / Assets', 'Assets / Equity', 'Profit Margin * Asset Turnover * Equity Multiplier'],\n",
    "        'Value': [f\"{profit_margin:.2%}\", f\"{asset_turnover:.2f}x\", f\"{equity_multiplier:.2f}x\", f\"{roe:.2%}\"]\n",
    "    }\n",
    "\n",
    "    df = pd.DataFrame(data)\n",
    "    display(df)\n",
    "\n",
    "interactive_plot = interactive(dupont_analysis, \n",
    "                               net_income=widgets.FloatSlider(min=10, max=500, step=10, value=80, description='Net Income'),\n",
    "                               sales=widgets.FloatSlider(min=500, max=2000, step=50, value=1000, description='Sales'),\n",
    "                               assets=widgets.FloatSlider(min=800, max=3000, step=100, value=1500, description='Assets'),\n",
    "                               equity=widgets.FloatSlider(min=200, max=1000, step=50, value=600, description='Equity'))\n",
    "\n",
    "display(interactive_plot)"
   ]
  }
 ],
 "metadata": {
  "kernelspec": {
   "display_name": "Python 3",
   "language": "python",
   "name": "python3"
  },
  "language_info": {
   "codemirror_mode": {
    "name": "ipython",
    "version": 3
   },
   "file_extension": ".py",
   "mimetype": "text/x-python",
   "name": "python",
   "nbconvert_exporter": "python",
   "pygments_lexer": "ipython3",
   "version": "3.10.9"
  }
 },
 "nbformat": 4,
 "nbformat_minor": 4
}
