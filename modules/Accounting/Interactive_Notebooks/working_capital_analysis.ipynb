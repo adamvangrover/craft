{
 "cells": [
  {
   "cell_type": "markdown",
   "metadata": {},
   "source": [
    "# Working Capital Analysis\n",
    "\n",
    "This notebook provides an interactive way to analyze a company's working capital."
   ]
  },
  {
   "cell_type": "code",
   "execution_count": null,
   "metadata": {},
   "outputs": [],
   "source": [
    "import pandas as pd\n",
    "\n",
    "def analyze_working_capital(current_assets, current_liabilities):\n",
    "  \"\"\"Analyzes a company's working capital.\n",
    "\n",
    "  Args:\n",
    "    current_assets: A dictionary of current assets.\n",
    "    current_liabilities: A dictionary of current liabilities.\n",
    "\n",
    "  Returns:\n",
    "    A pandas DataFrame with the working capital analysis.\n",
    "  \"\"\"\n",
    "\n",
    "  # Create a DataFrame from the dictionaries.\n",
    "  df = pd.DataFrame([current_assets, current_liabilities], index=['Current Assets', 'Current Liabilities'])\n",
    "\n",
    "  # Calculate total current assets and liabilities.\n",
    "  df['Total'] = df.sum(axis=1)\n",
    "\n",
    "  # Calculate working capital.\n",
    "  working_capital = df.loc['Current Assets', 'Total'] - df.loc['Current Liabilities', 'Total']\n",
    "  print(f'Working Capital: {working_capital}')\n",
    "\n",
    "  return df"
   ]
  },
  {
   "cell_type": "code",
   "execution_count": null,
   "metadata": {},
   "outputs": [],
   "source": [
    "# Example usage:\n",
    "current_assets = {'Cash': 100, 'Accounts Receivable': 200, 'Inventory': 300}\n",
    "current_liabilities = {'Accounts Payable': 150, 'Accrued Expenses': 50}\n",
    "\n",
    "analyze_working_capital(current_assets, current_liabilities)"
   ]
  }
 ],
 "metadata": {
  "kernelspec": {
   "display_name": "Python 3",
   "language": "python",
   "name": "python3"
  },
  "language_info": {
   "codemirror_mode": {
    "name": "ipython",
    "version": 3
   },
   "file_extension": ".py",
   "mimetype": "text/x-python",
   "name": "python",
   "nbconvert_exporter": "python",
   "pygments_lexer": "ipython3",
   "version": "3.10.9"
  }
 },
 "nbformat": 4,
 "nbformat_minor": 4
}
