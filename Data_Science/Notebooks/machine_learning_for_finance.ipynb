{
 "cells": [
  {
   "cell_type": "markdown",
   "metadata": {},
   "source": [
    "# Machine Learning for Finance\n",
    "\n",
    "This notebook provides an introduction to machine learning for finance. We will cover the following topics:\n",
    "\n",
    "* **What is machine learning?**\n",
    "* **Types of machine learning**\n",
    "* **Applications of machine learning in finance**\n",
    "* **Building a machine learning model**"
   ]
  },
  {
   "cell_type": "markdown",
   "metadata": {},
   "source": [
    "## 1. What is machine learning?\n",
    "\n",
    "Machine learning is a subfield of artificial intelligence (AI) that gives computers the ability to learn without being explicitly programmed. Machine learning algorithms are trained on data, and they use this data to make predictions or decisions."
   ]
  },
  {
   "cell_type": "markdown",
   "metadata": {},
   "source": [
    "## 2. Types of machine learning\n",
    "\n",
    "There are three main types of machine learning:\n",
    "\n",
    "* **Supervised learning:** The algorithm is trained on labeled data, which means that each data point is tagged with the correct output.\n",
    "* **Unsupervised learning:** The algorithm is trained on unlabeled data, and it must find patterns in the data on its own.\n",
    "* **Reinforcement learning:** The algorithm learns by trial and error, and it is rewarded for making correct decisions."
   ]
  },
  {
   "cell_type": "markdown",
   "metadata": {},
   "source": [
    "## 3. Applications of machine learning in finance\n",
    "\n",
    "Machine learning has a wide range of applications in finance, including:\n",
    "\n",
    "* **Algorithmic trading:** Machine learning algorithms can be used to develop and execute trading strategies.\n",
    "* **Fraud detection:** Machine learning algorithms can be used to detect fraudulent transactions.\n",
    "* **Credit scoring:** Machine learning algorithms can be used to assess the creditworthiness of borrowers.\n",
    "* **Portfolio management:** Machine learning algorithms can be used to optimize investment portfolios."
   ]
  },
  {
   "cell_type": "markdown",
   "metadata": {},
   "source": [
    "## 4. Building a machine learning model\n",
    "\n",
    "The process of building a machine learning model typically involves the following steps:\n",
    "\n",
    "1.  **Data collection:** The first step is to collect the data that will be used to train the model.\n",
    "2.  **Data preparation:** The data must be cleaned and preprocessed before it can be used to train the model.\n",
    "3.  **Model selection:** The next step is to select the appropriate machine learning model for the task.\n",
    "4.  **Model training:** The model is trained on the data.\n",
    "5.  **Model evaluation:** The model is evaluated on a test set of data to assess its performance.\n",
    "6.  **Model deployment:** The model is deployed to production."
   ]
  },
  {
   "cell_type": "code",
   "execution_count": null,
   "metadata": {},
   "outputs": [],
   "source": [
    "import pandas as pd\n",
    "from sklearn.model_selection import train_test_split\n",
    "from sklearn.linear_model import LogisticRegression\n",
    "\n",
    "# Load the data\n",
    "data = pd.read_csv('https://raw.githubusercontent.com/adamvangrover/craft/main/Interactive_Notebooks/Financial_Modeling/data/mega_cap_equity_data.csv')\n",
    "\n",
    "# Prepare the data\n",
    "X = data[['Market Cap', 'PE Ratio']]\n",
    "y = data['Sector']\n",
    "\n",
    "# Split the data into training and testing sets\n",
    "X_train, X_test, y_train, y_test = train_test_split(X, y, test_size=0.2, random_state=42)\n",
    "\n",
    "# Select and train the model\n",
    "model = LogisticRegression()\n",
    "model.fit(X_train, y_train)\n",
    "\n",
    "# Evaluate the model\n",
    "accuracy = model.score(X_test, y_test)\n",
    "print('Accuracy:', accuracy)"
   ]
  }
 ],
 "metadata": {
  "kernelspec": {
   "display_name": "Python 3",
   "language": "python",
   "name": "python3"
  },
  "language_info": {
   "codemirror_mode": {
    "name": "ipython",
    "version": 3
   },
   "file_extension": ".py",
   "mimetype": "text/x-python",
   "name": "python",
   "nbconvert_exporter": "python",
   "pygments_lexer": "ipython3",
   "version": "3.10.9"
  }
 },
 "nbformat": 4,
 "nbformat_minor": 4
}
